{
 "cells": [
  {
   "cell_type": "markdown",
   "metadata": {},
   "source": [
    "# Modules and Packages\n",
    "\n",
    "- Modules are the third party programs which can import in your programs\n",
    "- A group of Modules are known as Packages\n",
    "- A module may contain Functions, Classes and Differnet programs\n",
    "- You can import Libray or modules from pypi.org\n",
    "- You can install it using pip install"
   ]
  },
  {
   "cell_type": "code",
   "execution_count": 1,
   "metadata": {},
   "outputs": [],
   "source": [
    "#!pip install module_name"
   ]
  },
  {
   "cell_type": "markdown",
   "metadata": {},
   "source": [
    "# Writing our OWN Libs"
   ]
  },
  {
   "cell_type": "code",
   "execution_count": 2,
   "metadata": {},
   "outputs": [
    {
     "name": "stdout",
     "output_type": "stream",
     "text": [
      "Writing moduleOne.py\n"
     ]
    }
   ],
   "source": [
    "%%writefile moduleOne.py\n",
    "\n",
    "def printTopTenEven():\n",
    "    for i in range(1,11):\n",
    "        if i%2 == 0 :\n",
    "            print(i)\n",
    "            \n",
    "def printTopTenOdd():\n",
    "    for i in range(1,11):\n",
    "        if i % 2 == 1:\n",
    "            print(i)"
   ]
  },
  {
   "cell_type": "code",
   "execution_count": 3,
   "metadata": {},
   "outputs": [],
   "source": [
    "import moduleOne"
   ]
  },
  {
   "cell_type": "code",
   "execution_count": 4,
   "metadata": {},
   "outputs": [
    {
     "name": "stdout",
     "output_type": "stream",
     "text": [
      "2\n",
      "4\n",
      "6\n",
      "8\n",
      "10\n"
     ]
    }
   ],
   "source": [
    "moduleOne.printTopTenEven()"
   ]
  },
  {
   "cell_type": "code",
   "execution_count": 5,
   "metadata": {},
   "outputs": [
    {
     "name": "stdout",
     "output_type": "stream",
     "text": [
      "1\n",
      "3\n",
      "5\n",
      "7\n",
      "9\n"
     ]
    }
   ],
   "source": [
    "moduleOne.printTopTenOdd()"
   ]
  },
  {
   "cell_type": "code",
   "execution_count": 7,
   "metadata": {},
   "outputs": [],
   "source": [
    "#Details about Module One Library which is created \n",
    "\n",
    "#print(moduleOne)"
   ]
  },
  {
   "cell_type": "code",
   "execution_count": 8,
   "metadata": {},
   "outputs": [
    {
     "name": "stdout",
     "output_type": "stream",
     "text": [
      "['__builtins__', '__cached__', '__doc__', '__file__', '__loader__', '__name__', '__package__', '__spec__', 'printTopTenEven', 'printTopTenOdd']\n"
     ]
    }
   ],
   "source": [
    "t = dir(moduleOne)\n",
    "print(t)"
   ]
  },
  {
   "cell_type": "code",
   "execution_count": 9,
   "metadata": {},
   "outputs": [],
   "source": [
    "import math"
   ]
  },
  {
   "cell_type": "code",
   "execution_count": 10,
   "metadata": {},
   "outputs": [
    {
     "name": "stdout",
     "output_type": "stream",
     "text": [
      "['__doc__', '__loader__', '__name__', '__package__', '__spec__', 'acos', 'acosh', 'asin', 'asinh', 'atan', 'atan2', 'atanh', 'ceil', 'copysign', 'cos', 'cosh', 'degrees', 'e', 'erf', 'erfc', 'exp', 'expm1', 'fabs', 'factorial', 'floor', 'fmod', 'frexp', 'fsum', 'gamma', 'gcd', 'hypot', 'inf', 'isclose', 'isfinite', 'isinf', 'isnan', 'ldexp', 'lgamma', 'log', 'log10', 'log1p', 'log2', 'modf', 'nan', 'pi', 'pow', 'radians', 'remainder', 'sin', 'sinh', 'sqrt', 'tan', 'tanh', 'tau', 'trunc']\n"
     ]
    }
   ],
   "source": [
    "s= dir(math)\n",
    "print(s)"
   ]
  },
  {
   "cell_type": "markdown",
   "metadata": {},
   "source": [
    "##### How to create a Pacakge"
   ]
  },
  {
   "cell_type": "code",
   "execution_count": 11,
   "metadata": {},
   "outputs": [
    {
     "name": "stdout",
     "output_type": "stream",
     "text": [
      "Writing moduleTwo.py\n"
     ]
    }
   ],
   "source": [
    "%%writefile moduleTwo.py\n",
    "\n",
    "def printTopHundredEven():\n",
    "    for i in range(1,101):\n",
    "        if i%2 == 0 :\n",
    "            print(i)\n",
    "            \n",
    "def printTopHundredOdd():\n",
    "    for i in range(1,101):\n",
    "        if i % 2 == 1:\n",
    "            print(i)"
   ]
  },
  {
   "cell_type": "code",
   "execution_count": 13,
   "metadata": {},
   "outputs": [
    {
     "name": "stdout",
     "output_type": "stream",
     "text": [
      "2\n",
      "4\n",
      "6\n",
      "8\n",
      "10\n",
      "---------\n",
      "1\n",
      "3\n",
      "5\n",
      "7\n",
      "9\n",
      "---------\n",
      "2\n",
      "4\n",
      "6\n",
      "8\n",
      "10\n",
      "12\n",
      "14\n",
      "16\n",
      "18\n",
      "20\n",
      "22\n",
      "24\n",
      "26\n",
      "28\n",
      "30\n",
      "32\n",
      "34\n",
      "36\n",
      "38\n",
      "40\n",
      "42\n",
      "44\n",
      "46\n",
      "48\n",
      "50\n",
      "52\n",
      "54\n",
      "56\n",
      "58\n",
      "60\n",
      "62\n",
      "64\n",
      "66\n",
      "68\n",
      "70\n",
      "72\n",
      "74\n",
      "76\n",
      "78\n",
      "80\n",
      "82\n",
      "84\n",
      "86\n",
      "88\n",
      "90\n",
      "92\n",
      "94\n",
      "96\n",
      "98\n",
      "100\n",
      "---------\n",
      "1\n",
      "3\n",
      "5\n",
      "7\n",
      "9\n",
      "11\n",
      "13\n",
      "15\n",
      "17\n",
      "19\n",
      "21\n",
      "23\n",
      "25\n",
      "27\n",
      "29\n",
      "31\n",
      "33\n",
      "35\n",
      "37\n",
      "39\n",
      "41\n",
      "43\n",
      "45\n",
      "47\n",
      "49\n",
      "51\n",
      "53\n",
      "55\n",
      "57\n",
      "59\n",
      "61\n",
      "63\n",
      "65\n",
      "67\n",
      "69\n",
      "71\n",
      "73\n",
      "75\n",
      "77\n",
      "79\n",
      "81\n",
      "83\n",
      "85\n",
      "87\n",
      "89\n",
      "91\n",
      "93\n",
      "95\n",
      "97\n",
      "99\n",
      "---------\n"
     ]
    }
   ],
   "source": [
    "# Here we have a package \n",
    "\n",
    "import moduleOne\n",
    "import moduleTwo\n",
    "\n",
    "moduleOne.printTopTenEven()\n",
    "print(\"---------\")\n",
    "moduleOne.printTopTenOdd()\n",
    "print(\"---------\")\n",
    "\n",
    "moduleTwo.printTopHundredEven()\n",
    "print(\"---------\")\n",
    "moduleTwo.printTopHundredOdd()\n",
    "print(\"---------\")"
   ]
  },
  {
   "cell_type": "markdown",
   "metadata": {},
   "source": [
    "# Difference between Name and Main\n",
    "- When ever you want to find out is .py file is getting called directly or in-directly that time use name == \"main\""
   ]
  },
  {
   "cell_type": "code",
   "execution_count": 17,
   "metadata": {},
   "outputs": [
    {
     "name": "stdout",
     "output_type": "stream",
     "text": [
      "Overwriting moduleOne.py\n"
     ]
    }
   ],
   "source": [
    "%%writefile moduleOne.py\n",
    "\n",
    "def printTopTenEven():\n",
    "    for i in range(1,11):\n",
    "        if i%2 == 0 :\n",
    "            print(i)\n",
    "            \n",
    "def printTopTenOdd():\n",
    "    for i in range(1,11):\n",
    "        if i % 2 == 1:\n",
    "            print(i)\n",
    "            \n",
    "if __name__ == \"__main__\":\n",
    "    print(\"I am running directly I will shout on Someone\")\n",
    "else:\n",
    "    print(\"I am running in-directly I will shout on You all\")"
   ]
  },
  {
   "cell_type": "code",
   "execution_count": 18,
   "metadata": {},
   "outputs": [
    {
     "name": "stdout",
     "output_type": "stream",
     "text": [
      "I am running directly I will shout on Someone\n"
     ]
    }
   ],
   "source": [
    "! python moduleOne.py"
   ]
  },
  {
   "cell_type": "code",
   "execution_count": 19,
   "metadata": {},
   "outputs": [
    {
     "name": "stdout",
     "output_type": "stream",
     "text": [
      "Writing callPython.py\n"
     ]
    }
   ],
   "source": [
    "%%writefile callPython.py\n",
    "import moduleOne\n",
    "\n",
    "print(\"I am CallPython\")"
   ]
  },
  {
   "cell_type": "code",
   "execution_count": 20,
   "metadata": {},
   "outputs": [
    {
     "name": "stdout",
     "output_type": "stream",
     "text": [
      "I am running in-directly I will shout on You all\n",
      "I am CallPython\n"
     ]
    }
   ],
   "source": [
    "!python callPython.py"
   ]
  },
  {
   "cell_type": "markdown",
   "metadata": {},
   "source": [
    "# name == main\n",
    "- __name__ is a by default varibale in Python which holds the value weather a program is getting called as Main program or support program"
   ]
  },
  {
   "cell_type": "code",
   "execution_count": 21,
   "metadata": {},
   "outputs": [
    {
     "name": "stdout",
     "output_type": "stream",
     "text": [
      "Writing hi.py\n"
     ]
    }
   ],
   "source": [
    "%%writefile hi.py\n",
    "print(\"HI\")\n",
    "\n",
    "print(\"Hi.py __name__= \",__name__)"
   ]
  },
  {
   "cell_type": "code",
   "execution_count": 22,
   "metadata": {},
   "outputs": [
    {
     "name": "stdout",
     "output_type": "stream",
     "text": [
      "HI\n",
      "Hi.py __name__=  __main__\n"
     ]
    }
   ],
   "source": [
    "! python hi.py"
   ]
  },
  {
   "cell_type": "code",
   "execution_count": 23,
   "metadata": {},
   "outputs": [
    {
     "name": "stdout",
     "output_type": "stream",
     "text": [
      "Writing bye.py\n"
     ]
    }
   ],
   "source": [
    "%%writefile bye.py\n",
    "import hi\n",
    "\n",
    "print(\"We are inside Bye\")\n",
    "print(\"Bye.py is running - \",__name__)"
   ]
  },
  {
   "cell_type": "code",
   "execution_count": 24,
   "metadata": {},
   "outputs": [
    {
     "name": "stdout",
     "output_type": "stream",
     "text": [
      "HI\n",
      "Hi.py __name__=  hi\n",
      "We are inside Bye\n",
      "Bye.py is running -  __main__\n"
     ]
    }
   ],
   "source": [
    "! python bye.py"
   ]
  },
  {
   "cell_type": "markdown",
   "metadata": {},
   "source": [
    "# Decorator"
   ]
  },
  {
   "cell_type": "markdown",
   "metadata": {},
   "source": [
    "#### Problem -¶\n",
    "- We have one function inside our .py file\n",
    "- we dont want to rewrite the functuon\n",
    "- still we want to modify the way function is working\n",
    "- How is it possible ?"
   ]
  },
  {
   "cell_type": "code",
   "execution_count": 26,
   "metadata": {},
   "outputs": [],
   "source": [
    "# Basic Function \n",
    "\n",
    "def hello():\n",
    "    print(\"Hi Programmers\")"
   ]
  },
  {
   "cell_type": "code",
   "execution_count": 27,
   "metadata": {},
   "outputs": [
    {
     "name": "stdout",
     "output_type": "stream",
     "text": [
      "Hi Programmers\n"
     ]
    }
   ],
   "source": [
    "hello()"
   ]
  },
  {
   "cell_type": "code",
   "execution_count": 28,
   "metadata": {},
   "outputs": [],
   "source": [
    "# Basic Function with one parameter\n",
    "\n",
    "def hello(name=\"Everyone\"):\n",
    "    print(\"Hi Programmers - \", name)"
   ]
  },
  {
   "cell_type": "code",
   "execution_count": 29,
   "metadata": {},
   "outputs": [
    {
     "name": "stdout",
     "output_type": "stream",
     "text": [
      "Hi Programmers -  Ram\n"
     ]
    }
   ],
   "source": [
    "hello('Ram')"
   ]
  },
  {
   "cell_type": "code",
   "execution_count": 30,
   "metadata": {},
   "outputs": [
    {
     "name": "stdout",
     "output_type": "stream",
     "text": [
      "Hi Programmers -  Everyone\n"
     ]
    }
   ],
   "source": [
    "hello()"
   ]
  },
  {
   "cell_type": "code",
   "execution_count": 31,
   "metadata": {},
   "outputs": [],
   "source": [
    "# what are locals and globals variables?\n",
    "abc = \"Dinesh\"\n",
    "def hello(name=\"Everyone\"):\n",
    "    efg = \"Raj\"\n",
    "    print(\"Hi Programmers - \", name)\n",
    "    print(locals())\n",
    "    print(globals()[\"abc\"])"
   ]
  },
  {
   "cell_type": "code",
   "execution_count": 32,
   "metadata": {},
   "outputs": [
    {
     "name": "stdout",
     "output_type": "stream",
     "text": [
      "Hi Programmers -  Everyone\n",
      "{'name': 'Everyone', 'efg': 'Raj'}\n",
      "Dinesh\n"
     ]
    }
   ],
   "source": [
    "hello()"
   ]
  },
  {
   "cell_type": "code",
   "execution_count": 33,
   "metadata": {},
   "outputs": [
    {
     "data": {
      "text/plain": [
       "int"
      ]
     },
     "execution_count": 33,
     "metadata": {},
     "output_type": "execute_result"
    }
   ],
   "source": [
    "# Can we assing Function to a varibale ?\n",
    "abc = 10\n",
    "type(abc)"
   ]
  },
  {
   "cell_type": "code",
   "execution_count": 35,
   "metadata": {},
   "outputs": [],
   "source": [
    "hi = hello"
   ]
  },
  {
   "cell_type": "code",
   "execution_count": 36,
   "metadata": {},
   "outputs": [
    {
     "name": "stdout",
     "output_type": "stream",
     "text": [
      "Hi Programmers -  raju\n",
      "{'name': 'raju', 'efg': 'Raj'}\n",
      "10\n"
     ]
    }
   ],
   "source": [
    "hi('raju')"
   ]
  },
  {
   "cell_type": "code",
   "execution_count": 37,
   "metadata": {},
   "outputs": [
    {
     "data": {
      "text/plain": [
       "function"
      ]
     },
     "execution_count": 37,
     "metadata": {},
     "output_type": "execute_result"
    }
   ],
   "source": [
    "type(hi)"
   ]
  },
  {
   "cell_type": "markdown",
   "metadata": {},
   "source": [
    "##### Can we call a function inside a function"
   ]
  },
  {
   "cell_type": "code",
   "execution_count": 38,
   "metadata": {},
   "outputs": [],
   "source": [
    "def school():\n",
    "    print(\"I am inside school function\")\n",
    "    hello()"
   ]
  },
  {
   "cell_type": "code",
   "execution_count": 40,
   "metadata": {},
   "outputs": [
    {
     "name": "stdout",
     "output_type": "stream",
     "text": [
      "I am inside school function\n",
      "Hi Programmers -  Everyone\n",
      "{'name': 'Everyone', 'efg': 'Raj'}\n",
      "10\n"
     ]
    }
   ],
   "source": [
    "school()"
   ]
  },
  {
   "cell_type": "markdown",
   "metadata": {},
   "source": [
    "#### Can we pass function as a Argument inside another function ?"
   ]
  },
  {
   "cell_type": "code",
   "execution_count": 41,
   "metadata": {},
   "outputs": [],
   "source": [
    "def namaste(temp):\n",
    "    print(\"Namaste Krishna\")\n",
    "    temp(\"Krishna\")"
   ]
  },
  {
   "cell_type": "code",
   "execution_count": 42,
   "metadata": {},
   "outputs": [
    {
     "name": "stdout",
     "output_type": "stream",
     "text": [
      "Namaste Krishna\n",
      "Hi Programmers -  Krishna\n",
      "{'name': 'Krishna', 'efg': 'Raj'}\n",
      "10\n"
     ]
    }
   ],
   "source": [
    "namaste(hello)"
   ]
  },
  {
   "cell_type": "markdown",
   "metadata": {},
   "source": [
    "#### can we define function inside function ??"
   ]
  },
  {
   "cell_type": "code",
   "execution_count": 43,
   "metadata": {},
   "outputs": [],
   "source": [
    "def vanakam():\n",
    "    print(\"HI Vanakam\")\n",
    "    def Namaskaram():\n",
    "        print(\"we are inside Namaskaram\")\n",
    "    #call the function\n",
    "    Namaskaram()"
   ]
  },
  {
   "cell_type": "code",
   "execution_count": 44,
   "metadata": {},
   "outputs": [
    {
     "name": "stdout",
     "output_type": "stream",
     "text": [
      "HI Vanakam\n",
      "we are inside Namaskaram\n"
     ]
    }
   ],
   "source": [
    "vanakam()"
   ]
  },
  {
   "cell_type": "markdown",
   "metadata": {},
   "source": [
    "#### Can we return a Function from a Function ?"
   ]
  },
  {
   "cell_type": "code",
   "execution_count": 45,
   "metadata": {},
   "outputs": [],
   "source": [
    "def NamasteBhava():\n",
    "    print(\"We are in marathi Greetings\")\n",
    "    def Namaskara():\n",
    "        print(\"We are inside Kannada Greetings\")\n",
    "    return Namaskara"
   ]
  },
  {
   "cell_type": "code",
   "execution_count": 46,
   "metadata": {},
   "outputs": [
    {
     "name": "stdout",
     "output_type": "stream",
     "text": [
      "We are in marathi Greetings\n"
     ]
    }
   ],
   "source": [
    "kannadGreetings = NamasteBhava()"
   ]
  },
  {
   "cell_type": "code",
   "execution_count": 47,
   "metadata": {},
   "outputs": [
    {
     "name": "stdout",
     "output_type": "stream",
     "text": [
      "We are inside Kannada Greetings\n"
     ]
    }
   ],
   "source": [
    "kannadGreetings()"
   ]
  },
  {
   "cell_type": "code",
   "execution_count": 48,
   "metadata": {},
   "outputs": [],
   "source": [
    "def simplefunction():\n",
    "    print('I am simple Function')"
   ]
  },
  {
   "cell_type": "code",
   "execution_count": 49,
   "metadata": {},
   "outputs": [
    {
     "name": "stdout",
     "output_type": "stream",
     "text": [
      "I am simple Function\n"
     ]
    }
   ],
   "source": [
    "simplefunction()"
   ]
  },
  {
   "cell_type": "markdown",
   "metadata": {},
   "source": [
    "### ---Decorator ---"
   ]
  },
  {
   "cell_type": "code",
   "execution_count": 50,
   "metadata": {},
   "outputs": [],
   "source": [
    "def ModifiedFunction(temp):\n",
    "    def newFunction():\n",
    "        print(\"You are inside a modified function \")\n",
    "        temp()\n",
    "        print(\"You are inside a modified function\")\n",
    "    return newFunction"
   ]
  },
  {
   "cell_type": "code",
   "execution_count": 51,
   "metadata": {},
   "outputs": [
    {
     "name": "stdout",
     "output_type": "stream",
     "text": [
      "I am simple Function\n"
     ]
    }
   ],
   "source": [
    "simplefunction()"
   ]
  },
  {
   "cell_type": "code",
   "execution_count": 53,
   "metadata": {},
   "outputs": [],
   "source": [
    "SimpleFunctionModified = ModifiedFunction(simplefunction)"
   ]
  },
  {
   "cell_type": "code",
   "execution_count": 54,
   "metadata": {},
   "outputs": [
    {
     "name": "stdout",
     "output_type": "stream",
     "text": [
      "You are inside a modified function \n",
      "I am simple Function\n",
      "You are inside a modified function\n"
     ]
    }
   ],
   "source": [
    "SimpleFunctionModified()"
   ]
  },
  {
   "cell_type": "code",
   "execution_count": 55,
   "metadata": {},
   "outputs": [
    {
     "name": "stdout",
     "output_type": "stream",
     "text": [
      "I am simple Function\n"
     ]
    }
   ],
   "source": [
    "simplefunction()"
   ]
  },
  {
   "cell_type": "code",
   "execution_count": 56,
   "metadata": {},
   "outputs": [],
   "source": [
    "@ModifiedFunction\n",
    "def hey():\n",
    "    print(\"This is one more simple Funtion\")"
   ]
  },
  {
   "cell_type": "code",
   "execution_count": 57,
   "metadata": {},
   "outputs": [
    {
     "name": "stdout",
     "output_type": "stream",
     "text": [
      "You are inside a modified function \n",
      "This is one more simple Funtion\n",
      "You are inside a modified function\n"
     ]
    }
   ],
   "source": [
    "hey()"
   ]
  },
  {
   "cell_type": "code",
   "execution_count": 58,
   "metadata": {},
   "outputs": [],
   "source": [
    "#Make a small Decorator to take inputs\n",
    "\n",
    "def takeInput(temp):\n",
    "    def returnFunction():\n",
    "        num = int(input(\"Enter Number 1 \"))\n",
    "        num2 = int(input(\"Enter Number 2 \"))\n",
    "        temp(num,num2)\n",
    "    return returnFunction"
   ]
  },
  {
   "cell_type": "code",
   "execution_count": 59,
   "metadata": {},
   "outputs": [],
   "source": [
    "@takeInput\n",
    "def addition(num1,num2):\n",
    "    print(num1 + num2)"
   ]
  },
  {
   "cell_type": "code",
   "execution_count": 60,
   "metadata": {},
   "outputs": [
    {
     "name": "stdout",
     "output_type": "stream",
     "text": [
      "Enter Number 1 20\n",
      "Enter Number 2 25\n",
      "45\n"
     ]
    }
   ],
   "source": [
    "addition()"
   ]
  },
  {
   "cell_type": "code",
   "execution_count": 61,
   "metadata": {},
   "outputs": [],
   "source": [
    "@takeInput\n",
    "def  sub(num1,num2):\n",
    "    print(num1-num2)"
   ]
  },
  {
   "cell_type": "code",
   "execution_count": 62,
   "metadata": {},
   "outputs": [
    {
     "name": "stdout",
     "output_type": "stream",
     "text": [
      "Enter Number 1 85\n",
      "Enter Number 2 65\n",
      "20\n"
     ]
    }
   ],
   "source": [
    "sub()"
   ]
  },
  {
   "cell_type": "markdown",
   "metadata": {},
   "source": [
    "# Generators"
   ]
  },
  {
   "cell_type": "code",
   "execution_count": 63,
   "metadata": {},
   "outputs": [],
   "source": [
    "def isPalindrome(arg1):\n",
    "    arg2 = arg1\n",
    "    arg2 = list(arg2)\n",
    "    arg1 = list(arg1)\n",
    "    arg1.reverse()\n",
    "    if arg1 == arg2:\n",
    "        return True\n",
    "    else:\n",
    "        return False"
   ]
  },
  {
   "cell_type": "code",
   "execution_count": 64,
   "metadata": {},
   "outputs": [
    {
     "data": {
      "text/plain": [
       "True"
      ]
     },
     "execution_count": 64,
     "metadata": {},
     "output_type": "execute_result"
    }
   ],
   "source": [
    "isPalindrome(\"hih\")"
   ]
  },
  {
   "cell_type": "code",
   "execution_count": 65,
   "metadata": {},
   "outputs": [],
   "source": [
    "lst = [\"names\",\"lu\",\"lol\",\"text\",\"young\",\"pip\",\"yes\",\"no\",\"k\"]"
   ]
  },
  {
   "cell_type": "code",
   "execution_count": 66,
   "metadata": {},
   "outputs": [],
   "source": [
    "newList = []\n",
    "for item in lst:\n",
    "    if isPalindrome(item):\n",
    "        newList.append(item)"
   ]
  },
  {
   "cell_type": "code",
   "execution_count": 67,
   "metadata": {},
   "outputs": [
    {
     "data": {
      "text/plain": [
       "['lol', 'pip', 'k']"
      ]
     },
     "execution_count": 67,
     "metadata": {},
     "output_type": "execute_result"
    }
   ],
   "source": [
    "newList"
   ]
  },
  {
   "cell_type": "code",
   "execution_count": 68,
   "metadata": {},
   "outputs": [],
   "source": [
    "def isPalindrome1(lst):\n",
    "    for item in lst:\n",
    "        arg1 = item\n",
    "        arg2 = arg1\n",
    "        arg2 = list(arg2)\n",
    "        arg1 = list(arg1)\n",
    "        arg1.reverse()\n",
    "        if arg1 == arg2:\n",
    "            yield item"
   ]
  },
  {
   "cell_type": "code",
   "execution_count": 69,
   "metadata": {},
   "outputs": [],
   "source": [
    "neList = list(isPalindrome1(lst))"
   ]
  },
  {
   "cell_type": "code",
   "execution_count": 70,
   "metadata": {},
   "outputs": [
    {
     "data": {
      "text/plain": [
       "['lol', 'pip', 'k']"
      ]
     },
     "execution_count": 70,
     "metadata": {},
     "output_type": "execute_result"
    }
   ],
   "source": [
    "neList"
   ]
  },
  {
   "cell_type": "code",
   "execution_count": 72,
   "metadata": {},
   "outputs": [
    {
     "data": {
      "text/plain": [
       "False"
      ]
     },
     "execution_count": 72,
     "metadata": {},
     "output_type": "execute_result"
    }
   ],
   "source": [
    "isPalindrome(lst)"
   ]
  },
  {
   "cell_type": "code",
   "execution_count": null,
   "metadata": {},
   "outputs": [],
   "source": [
    "# Genrator define  \n",
    "\n",
    "# When ever you want multple varibale to be returned from a function, you use yield keyword and that is known as Generator \n",
    "\n",
    "# but whenever you want to use single variable return you can use it with simple return statement"
   ]
  }
 ],
 "metadata": {
  "kernelspec": {
   "display_name": "Python 3",
   "language": "python",
   "name": "python3"
  },
  "language_info": {
   "codemirror_mode": {
    "name": "ipython",
    "version": 3
   },
   "file_extension": ".py",
   "mimetype": "text/x-python",
   "name": "python",
   "nbconvert_exporter": "python",
   "pygments_lexer": "ipython3",
   "version": "3.7.4"
  }
 },
 "nbformat": 4,
 "nbformat_minor": 2
}
