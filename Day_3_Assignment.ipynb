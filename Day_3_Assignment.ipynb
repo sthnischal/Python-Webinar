{
 "cells": [
  {
   "cell_type": "markdown",
   "metadata": {},
   "source": [
    "### Question 1:\n",
    "    WAP for taking one number a input and then using if elif else concept, assign a grade to the input number from A,B,C,D,E, Fail\n",
    "    In a formatted report card Example :\n",
    "    Input - 97\n",
    "    Output - |--------|\n",
    "             |--- A --|\n",
    "             |--------|"
   ]
  },
  {
   "cell_type": "code",
   "execution_count": 14,
   "metadata": {},
   "outputs": [
    {
     "name": "stdout",
     "output_type": "stream",
     "text": [
      "Please Enter the number:\n",
      "None60\n",
      "|------|\n",
      "|---E--|\n",
      "|------|\n"
     ]
    }
   ],
   "source": [
    "x = int(input(print('Please Enter the number:')))\n",
    "\n",
    "if x > 90:\n",
    "    print('|------|')\n",
    "    print('|---A--|')\n",
    "    print('|------|')\n",
    "elif x > 80 and x <= 90:\n",
    "    print('|------|')\n",
    "    print('|---B--|')\n",
    "    print('|------|')\n",
    "elif x > 70 and x <= 80:\n",
    "    print('|------|')\n",
    "    print('|---C--|')\n",
    "    print('|------|')\n",
    "elif x > 60 and x <= 70:\n",
    "    print('|------|')\n",
    "    print('|---D--|')\n",
    "    print('|------|')\n",
    "elif x > 50 and x <= 60:\n",
    "    print('|------|')\n",
    "    print('|---E--|')\n",
    "    print('|------|')\n",
    "else:\n",
    "    print('|------|')\n",
    "    print('|-Fail-|')\n",
    "    print('|------|')"
   ]
  },
  {
   "cell_type": "markdown",
   "metadata": {},
   "source": [
    "### Question 2:\n",
    "    Guessing Team Score in 20-20 Cricket -\n",
    "        WAP gives you a random score of Team in a cricket match, and a player has to guess the score given by computer in between 1 to 250. The rules are:\n",
    "1. If a player's guess is less than 1 or greater than 250, say \"Reduce your expectation for 20-20 Cricket\"\n",
    "2. On a player's input, if their score guess is\n",
    "   - within 10 of the number, return \"Close By, you are True Indian Fan! \"\n",
    "   - further than 10 away from the number, return \"You are not a true Indian Fan! :P \""
   ]
  },
  {
   "cell_type": "code",
   "execution_count": 34,
   "metadata": {},
   "outputs": [
    {
     "name": "stdout",
     "output_type": "stream",
     "text": [
      "Enter your guess score: \n",
      "None270\n",
      "Reduce your Expectation for 20-20 cricket\n"
     ]
    }
   ],
   "source": [
    "y = 210\n",
    "\n",
    "x = int(input(print('Enter your guess score: ')))\n",
    "\n",
    "z = x - y\n",
    "if x < 1 or x > 250:\n",
    "    print('Reduce your Expectation for 20-20 cricket')\n",
    "elif z <=10 & z >= 1: \n",
    "    print('Close By, you are True Cricket Fan!')\n",
    "else:\n",
    "    print('You are not a true Cricket Fan!')"
   ]
  },
  {
   "cell_type": "markdown",
   "metadata": {},
   "source": [
    "### Question 3:\n",
    "    Roy wants to change his profile picture on Facebook. Now Facebook has some restrictions over the dimension of pictures that we can upload.\n",
    "    Minimum dimension of the picture can be L x L, where L is the length of the side of the square.\n",
    "    Now Roy has N photos of various dimensions. \n",
    "    Dimension of a photo is denoted as W x H where W - width of the photo and H - Height of the photo \n",
    "    When any photo is uploaded following events may occur:\n",
    "\n",
    "    [1] If any of the width or height is less than L, the user is prompted to upload another one. Print \"UPLOAD ANOTHER\" in this case.\n",
    "    [2] If width and height, both are large enough and\n",
    "    \n",
    "    - if the photo is already square then it is accepted. Print \"ACCEPTED\" in this case.\n",
    "    - else the user is prompted to crop it. Print \"CROP IT\" in this case. (quotes are only for clarification)\n",
    "    \n",
    "    Given L, N, W and H as input, print appropriate text as output.\n",
    "\n",
    "    Input: First line contains L. \n",
    "           Second line contains N, number of photos.\n",
    "           Following N lines each contains two space separated integers W and H.\n",
    "    Output:\n",
    "            Print appropriate text for each photo in a new line.\n",
    "            Constraints:\n",
    "            1 <= L,W,H <= 10000\n",
    "            1 <= N <= 1000"
   ]
  },
  {
   "cell_type": "code",
   "execution_count": 1,
   "metadata": {},
   "outputs": [
    {
     "name": "stdout",
     "output_type": "stream",
     "text": [
      "Enter number of chances you want a user to upload: 1\n",
      "Enter the min Length: 5\n",
      "Enter your height of photo: 4\n",
      "Enter your width of photo: 4\n",
      "Accepted\n"
     ]
    }
   ],
   "source": [
    "n = int(input('Enter number of chances you want a user to upload: '))  #3it is number of times the user need to fill the data\n",
    "\n",
    "l = int(input('Enter the min Length: '))\n",
    "\n",
    "current_operation = 0\n",
    "while(current_operation < n):\n",
    "    current_operation += 1\n",
    "    \n",
    "    h = int(input('Enter your height of photo: '))\n",
    "    w = int(input('Enter your width of photo: '))\n",
    "    \n",
    "    \n",
    "    if (h >= 1 and w >= 1):\n",
    "        if(h == w):\n",
    "            print('Accepted')\n",
    "        else:\n",
    "            print('Crop it')\n",
    "    else:\n",
    "        print('Minimum photo size should be ', l)"
   ]
  },
  {
   "cell_type": "markdown",
   "metadata": {},
   "source": [
    "### Question 4:\n",
    "    ➔ Ankit is in a maze. The command center sent him a string which decodes to come out from the maze.\n",
    "    ➔ He is initially at (0, 0).\n",
    "    ➔ String contains L, R, U, D denoting left, right, up and down.\n",
    "    ➔ In each command he will traverse 1 unit distance in the respective direction.\n",
    "    ➔ For example if he is at (2, 0) and the command is L he will go to (1, 0).\n",
    "    ➔ You guys just need to make the flow of the logic which updates the position after taking input from u L, R, U, D"
   ]
  },
  {
   "cell_type": "code",
   "execution_count": 2,
   "metadata": {},
   "outputs": [
    {
     "name": "stdout",
     "output_type": "stream",
     "text": [
      "Enter the Command to move: l\n",
      "Ankit is here:  -1 0\n",
      "Enter the Command to move: u\n",
      "Ankit is here:  -1 1\n",
      "Enter the Command to move: d\n",
      "Ankit is here:  0 1\n",
      "Enter the Command to move: r\n",
      "Ankit is here:  1 1\n"
     ]
    }
   ],
   "source": [
    "ankit_x = 0\n",
    "ankit_y = 0\n",
    "\n",
    "max_move = 0\n",
    "\n",
    "while(max_move <= 3):\n",
    "    max_move +=1\n",
    "    command = input('Enter the Command to move: ')\n",
    "    command = command.lower()\n",
    "    \n",
    "    if(command == 'l'):\n",
    "        ankit_x += -1\n",
    "    elif (command == 'r'):\n",
    "        ankit_x += +1\n",
    "    elif (command == 'u'):\n",
    "        ankit_y += 1\n",
    "    elif (command == 'd'):\n",
    "        ankit_x += 1\n",
    "    else:\n",
    "        print('Enter valid input ')\n",
    "        \n",
    "    print('Ankit is here: ', ankit_x, ankit_y)"
   ]
  },
  {
   "cell_type": "code",
   "execution_count": null,
   "metadata": {},
   "outputs": [],
   "source": []
  }
 ],
 "metadata": {
  "kernelspec": {
   "display_name": "Python 3",
   "language": "python",
   "name": "python3"
  },
  "language_info": {
   "codemirror_mode": {
    "name": "ipython",
    "version": 3
   },
   "file_extension": ".py",
   "mimetype": "text/x-python",
   "name": "python",
   "nbconvert_exporter": "python",
   "pygments_lexer": "ipython3",
   "version": "3.7.4"
  }
 },
 "nbformat": 4,
 "nbformat_minor": 2
}
