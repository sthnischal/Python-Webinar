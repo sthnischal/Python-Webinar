{
 "cells": [
  {
   "cell_type": "markdown",
   "metadata": {},
   "source": [
    "### Question 1:\n",
    "    Write a program to identify sub list [1,1,5] is there in the given list in the same order, if yes print “it's a Match” if no then print “it's Gone” in function\n",
    "    Example -\n",
    "        Listy = [1,5,6,4,1,2,3,5] - it's a Match\n",
    "        Listy = [1,5,6,5,1,2,3,6] - it's Gone"
   ]
  },
  {
   "cell_type": "code",
   "execution_count": 9,
   "metadata": {},
   "outputs": [
    {
     "name": "stdout",
     "output_type": "stream",
     "text": [
      " it's a Match \n"
     ]
    }
   ],
   "source": [
    "listy =  [1,5,6,4,1,2,5]\n",
    "#listy =  [1,5,6,4,1,2,3]\n",
    "\n",
    "\n",
    "sub_list = [1,1,5]\n",
    "\n",
    "\n",
    "for item in listy:\n",
    "    if item == sub_list[0]:\n",
    "        sub_list.pop(0)\n",
    "        \n",
    "if len(sub_list) == 0:\n",
    "    print(\" it's a Match \")\n",
    "else:\n",
    "    print(\" it's Gone \")"
   ]
  },
  {
   "cell_type": "markdown",
   "metadata": {},
   "source": [
    "### Question 2:\n",
    "    Make a calculator using Functions, along with If, elif and else Addition, Subtraction, Multiplication, Division\n",
    "    You enter two numbers and operation you want to do, it will return the answer"
   ]
  },
  {
   "cell_type": "code",
   "execution_count": 10,
   "metadata": {},
   "outputs": [],
   "source": [
    "def calculator(num1,num2,op):\n",
    "    if op == \"+\":\n",
    "        return num1 +num2\n",
    "    elif op == \"-\":\n",
    "        return num1 -num2    \n",
    "    elif op == \"*\":\n",
    "        return num1 * num2\n",
    "    elif op == \"/\":\n",
    "        return num1 / num2\n",
    "    else:\n",
    "        return \"Give proper Operand, +, - , *, /\""
   ]
  },
  {
   "cell_type": "code",
   "execution_count": 12,
   "metadata": {},
   "outputs": [
    {
     "data": {
      "text/plain": [
       "0.625"
      ]
     },
     "execution_count": 12,
     "metadata": {},
     "output_type": "execute_result"
    }
   ],
   "source": [
    "calculator(5,8,'/')"
   ]
  },
  {
   "cell_type": "code",
   "execution_count": 13,
   "metadata": {},
   "outputs": [
    {
     "data": {
      "text/plain": [
       "'Give proper Operand, +, - , *, /'"
      ]
     },
     "execution_count": 13,
     "metadata": {},
     "output_type": "execute_result"
    }
   ],
   "source": [
    "calculator(2,3,'f')"
   ]
  },
  {
   "cell_type": "code",
   "execution_count": null,
   "metadata": {},
   "outputs": [],
   "source": []
  }
 ],
 "metadata": {
  "kernelspec": {
   "display_name": "Python 3",
   "language": "python",
   "name": "python3"
  },
  "language_info": {
   "codemirror_mode": {
    "name": "ipython",
    "version": 3
   },
   "file_extension": ".py",
   "mimetype": "text/x-python",
   "name": "python",
   "nbconvert_exporter": "python",
   "pygments_lexer": "ipython3",
   "version": "3.7.4"
  }
 },
 "nbformat": 4,
 "nbformat_minor": 2
}
