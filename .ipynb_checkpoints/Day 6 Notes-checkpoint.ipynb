{
 "cells": [
  {
   "cell_type": "markdown",
   "metadata": {},
   "source": [
    "# OOP "
   ]
  },
  {
   "cell_type": "code",
   "execution_count": 1,
   "metadata": {},
   "outputs": [],
   "source": [
    "lst = [1,2,3,4,5]\n",
    "\n",
    "dit = {'key1': 234, 'key2': 3553}"
   ]
  },
  {
   "cell_type": "code",
   "execution_count": 2,
   "metadata": {},
   "outputs": [
    {
     "data": {
      "text/plain": [
       "[1, 2, 3, 4, 5]"
      ]
     },
     "execution_count": 2,
     "metadata": {},
     "output_type": "execute_result"
    }
   ],
   "source": [
    "lst"
   ]
  },
  {
   "cell_type": "code",
   "execution_count": 3,
   "metadata": {},
   "outputs": [
    {
     "data": {
      "text/plain": [
       "{'key1': 234, 'key2': 3553}"
      ]
     },
     "execution_count": 3,
     "metadata": {},
     "output_type": "execute_result"
    }
   ],
   "source": [
    "dit"
   ]
  },
  {
   "cell_type": "markdown",
   "metadata": {},
   "source": [
    "OOP is used for making repeatable and organized code when we have to develop program keeping real world objects in mind.\n",
    "for examople you are a car company owner u want to maintain a full list of cars \n",
    "then u will create an object known as car and then give it properties\n",
    "based upon the properties we can code our whole usecase"
   ]
  },
  {
   "cell_type": "code",
   "execution_count": 4,
   "metadata": {},
   "outputs": [],
   "source": [
    "#we need to male a car object in python program\n",
    "\n",
    "\n",
    "class car():\n",
    "    '''\n",
    "    This is a car object which is used for storing 3 basic values of car\n",
    "    you need to pass car_sr_no, car_color, car_fuel when initializing it\n",
    "    '''\n",
    "    \n",
    "    def __init__(self, car_sr_no, car_color, car_fuel):\n",
    "        #initialize attribute first time\n",
    "        self.car_sr_no = car_sr_no\n",
    "        self.car_color = car_color\n",
    "        self.car_fuel = car_fuel\n",
    "    \n",
    "    def some_method_to_print(self):\n",
    "        print(self.car_sr_no)\n",
    "        print(self.car_color)\n",
    "        print(self.car_fuel)"
   ]
  },
  {
   "cell_type": "code",
   "execution_count": 5,
   "metadata": {},
   "outputs": [],
   "source": [
    "wagaonR = car('wagaonR', 'Navy Blue', 'petrol')"
   ]
  },
  {
   "cell_type": "code",
   "execution_count": 6,
   "metadata": {},
   "outputs": [
    {
     "data": {
      "text/plain": [
       "'Navy Blue'"
      ]
     },
     "execution_count": 6,
     "metadata": {},
     "output_type": "execute_result"
    }
   ],
   "source": [
    "wagaonR.car_color"
   ]
  },
  {
   "cell_type": "code",
   "execution_count": 7,
   "metadata": {},
   "outputs": [
    {
     "data": {
      "text/plain": [
       "'wagaonR'"
      ]
     },
     "execution_count": 7,
     "metadata": {},
     "output_type": "execute_result"
    }
   ],
   "source": [
    "wagaonR.car_sr_no"
   ]
  },
  {
   "cell_type": "code",
   "execution_count": 8,
   "metadata": {},
   "outputs": [
    {
     "data": {
      "text/plain": [
       "'petrol'"
      ]
     },
     "execution_count": 8,
     "metadata": {},
     "output_type": "execute_result"
    }
   ],
   "source": [
    "wagaonR.car_fuel"
   ]
  },
  {
   "cell_type": "code",
   "execution_count": 9,
   "metadata": {},
   "outputs": [
    {
     "name": "stdout",
     "output_type": "stream",
     "text": [
      "wagaonR\n",
      "Navy Blue\n",
      "petrol\n"
     ]
    }
   ],
   "source": [
    "wagaonR.some_method_to_print()"
   ]
  },
  {
   "cell_type": "code",
   "execution_count": 10,
   "metadata": {},
   "outputs": [],
   "source": [
    "swift = car('swift', 'white', 'Petrol')"
   ]
  },
  {
   "cell_type": "code",
   "execution_count": 11,
   "metadata": {},
   "outputs": [
    {
     "name": "stdout",
     "output_type": "stream",
     "text": [
      "swift\n",
      "white\n",
      "Petrol\n"
     ]
    }
   ],
   "source": [
    "swift.some_method_to_print()"
   ]
  },
  {
   "cell_type": "code",
   "execution_count": 12,
   "metadata": {},
   "outputs": [
    {
     "ename": "TypeError",
     "evalue": "__init__() missing 3 required positional arguments: 'car_sr_no', 'car_color', and 'car_fuel'",
     "output_type": "error",
     "traceback": [
      "\u001b[1;31m---------------------------------------------------------------------------\u001b[0m",
      "\u001b[1;31mTypeError\u001b[0m                                 Traceback (most recent call last)",
      "\u001b[1;32m<ipython-input-12-e13d359f82b2>\u001b[0m in \u001b[0;36m<module>\u001b[1;34m\u001b[0m\n\u001b[1;32m----> 1\u001b[1;33m \u001b[0mrapid\u001b[0m \u001b[1;33m=\u001b[0m \u001b[0mcar\u001b[0m\u001b[1;33m(\u001b[0m\u001b[1;33m)\u001b[0m\u001b[1;33m\u001b[0m\u001b[1;33m\u001b[0m\u001b[0m\n\u001b[0m",
      "\u001b[1;31mTypeError\u001b[0m: __init__() missing 3 required positional arguments: 'car_sr_no', 'car_color', and 'car_fuel'"
     ]
    }
   ],
   "source": [
    "rapid = car()"
   ]
  },
  {
   "cell_type": "code",
   "execution_count": 13,
   "metadata": {},
   "outputs": [],
   "source": [
    "class car():\n",
    "    '''\n",
    "    This is a car object which is used for storing 3 basic values of car\n",
    "    you need to pass car_sr_no, car_color, car_fuel when initializing it\n",
    "    '''\n",
    "    \n",
    "    def __init__(self, car_sr_no='blank', car_color='blank', car_fuel='blank'):\n",
    "        #initialize attribute first time\n",
    "        self.car_sr_no = car_sr_no\n",
    "        self.car_color = car_color\n",
    "        self.car_fuel = car_fuel\n",
    "    \n",
    "    def some_method_to_print(self):\n",
    "        print(self.car_sr_no)\n",
    "        print(self.car_color)\n",
    "        print(self.car_fuel)"
   ]
  },
  {
   "cell_type": "code",
   "execution_count": 14,
   "metadata": {},
   "outputs": [],
   "source": [
    "rapid = car()"
   ]
  },
  {
   "cell_type": "code",
   "execution_count": 15,
   "metadata": {},
   "outputs": [
    {
     "name": "stdout",
     "output_type": "stream",
     "text": [
      "blank\n",
      "blank\n",
      "blank\n"
     ]
    }
   ],
   "source": [
    "rapid.some_method_to_print()"
   ]
  },
  {
   "cell_type": "code",
   "execution_count": 16,
   "metadata": {},
   "outputs": [],
   "source": [
    "class car():\n",
    "    '''\n",
    "    This is a car object which is used for storing 3 basic values of car\n",
    "    you need to pass car_sr_no, car_color, car_fuel when initializing it\n",
    "    \n",
    "    \n",
    "    Also instead of using self, any variable is use in place of self\n",
    "    \n",
    "    init is a constructor \n",
    "    '''\n",
    "    \n",
    "    def __init__(self, car_sr_no='blank', car_color='blank', car_fuel='blank'):\n",
    "        #initialize attribute first time\n",
    "        self.car_sr_no = car_sr_no\n",
    "        self.car_color = car_color\n",
    "        self.car_fuel = car_fuel\n",
    "    \n",
    "    def some_method_to_print(self):\n",
    "        print(self.car_sr_no)\n",
    "        print(self.car_color)\n",
    "        print(self.car_fuel)\n",
    "        \n",
    "    def input_car_sr_no(self, car_sr_no):\n",
    "        self.car_sr_no =car_sr_no"
   ]
  },
  {
   "cell_type": "code",
   "execution_count": 17,
   "metadata": {},
   "outputs": [],
   "source": [
    "rapid = car()"
   ]
  },
  {
   "cell_type": "code",
   "execution_count": 18,
   "metadata": {},
   "outputs": [],
   "source": [
    "rapid.input_car_sr_no('Rapid1234')"
   ]
  },
  {
   "cell_type": "code",
   "execution_count": 19,
   "metadata": {},
   "outputs": [
    {
     "name": "stdout",
     "output_type": "stream",
     "text": [
      "Rapid1234\n",
      "blank\n",
      "blank\n"
     ]
    }
   ],
   "source": [
    "rapid.some_method_to_print()"
   ]
  },
  {
   "cell_type": "code",
   "execution_count": 20,
   "metadata": {},
   "outputs": [],
   "source": [
    "skodarapid = car()"
   ]
  },
  {
   "cell_type": "code",
   "execution_count": 21,
   "metadata": {},
   "outputs": [
    {
     "name": "stdout",
     "output_type": "stream",
     "text": [
      "blank\n",
      "blank\n",
      "blank\n"
     ]
    }
   ],
   "source": [
    "skodarapid.some_method_to_print()"
   ]
  },
  {
   "cell_type": "code",
   "execution_count": 22,
   "metadata": {},
   "outputs": [],
   "source": [
    "skodarapid.input_car_sr_no('Rapid1234')"
   ]
  },
  {
   "cell_type": "code",
   "execution_count": 23,
   "metadata": {},
   "outputs": [
    {
     "name": "stdout",
     "output_type": "stream",
     "text": [
      "Rapid1234\n",
      "blank\n",
      "blank\n"
     ]
    }
   ],
   "source": [
    "skodarapid.some_method_to_print()"
   ]
  },
  {
   "cell_type": "code",
   "execution_count": 24,
   "metadata": {},
   "outputs": [],
   "source": [
    "jeepcompass = car()"
   ]
  },
  {
   "cell_type": "code",
   "execution_count": 25,
   "metadata": {},
   "outputs": [
    {
     "name": "stdout",
     "output_type": "stream",
     "text": [
      "blank\n",
      "blank\n",
      "blank\n"
     ]
    }
   ],
   "source": [
    "jeepcompass.some_method_to_print()"
   ]
  },
  {
   "cell_type": "code",
   "execution_count": 26,
   "metadata": {},
   "outputs": [],
   "source": [
    "jeepcompass.input_car_sr_no('jeep_chn_01')"
   ]
  },
  {
   "cell_type": "code",
   "execution_count": 27,
   "metadata": {},
   "outputs": [
    {
     "name": "stdout",
     "output_type": "stream",
     "text": [
      "jeep_chn_01\n",
      "blank\n",
      "blank\n"
     ]
    }
   ],
   "source": [
    "jeepcompass.some_method_to_print()"
   ]
  },
  {
   "cell_type": "code",
   "execution_count": 28,
   "metadata": {},
   "outputs": [
    {
     "data": {
      "text/plain": [
       "'jeep_chn_01'"
      ]
     },
     "execution_count": 28,
     "metadata": {},
     "output_type": "execute_result"
    }
   ],
   "source": [
    "jeepcompass.car_sr_no"
   ]
  },
  {
   "cell_type": "code",
   "execution_count": 29,
   "metadata": {},
   "outputs": [],
   "source": [
    "# define a class for circle and develop methods, like perimeter, area\n",
    "\n",
    "class circle():\n",
    "    pi = 3.14  #constant value\n",
    "    \n",
    "    def __init__(self, radius):\n",
    "        self.radius = radius\n",
    "        \n",
    "    def getArea(self):\n",
    "        return circle.pi * self.radius * self.radius\n",
    "    \n",
    "    def getCircumference(self):\n",
    "        return 2 * circle.pi * self.radius "
   ]
  },
  {
   "cell_type": "code",
   "execution_count": 30,
   "metadata": {},
   "outputs": [],
   "source": [
    "circle1 = circle(23)"
   ]
  },
  {
   "cell_type": "code",
   "execution_count": 31,
   "metadata": {},
   "outputs": [
    {
     "data": {
      "text/plain": [
       "1661.06"
      ]
     },
     "execution_count": 31,
     "metadata": {},
     "output_type": "execute_result"
    }
   ],
   "source": [
    "circle1.getArea()"
   ]
  },
  {
   "cell_type": "code",
   "execution_count": 32,
   "metadata": {},
   "outputs": [
    {
     "data": {
      "text/plain": [
       "144.44"
      ]
     },
     "execution_count": 32,
     "metadata": {},
     "output_type": "execute_result"
    }
   ],
   "source": [
    "circle1.getCircumference()"
   ]
  },
  {
   "cell_type": "code",
   "execution_count": 33,
   "metadata": {},
   "outputs": [],
   "source": [
    "#use lambda 3 inside class\n",
    "\n",
    "class circle():\n",
    "    pi = 3.14  #constant value\n",
    "    \n",
    "    def __init__(self, radius):\n",
    "        self.radius = radius\n",
    "        \n",
    "    s = lambda self: print(self.radius)\n",
    "        \n",
    "    def getArea(self):\n",
    "        return circle.pi * self.radius * self.radius\n",
    "    \n",
    "    def getCircumference(self):\n",
    "        return 2 * circle.pi * self.radius "
   ]
  },
  {
   "cell_type": "code",
   "execution_count": 34,
   "metadata": {},
   "outputs": [],
   "source": [
    "circle1 = circle(1)"
   ]
  },
  {
   "cell_type": "code",
   "execution_count": 35,
   "metadata": {},
   "outputs": [
    {
     "name": "stdout",
     "output_type": "stream",
     "text": [
      "1\n"
     ]
    }
   ],
   "source": [
    "circle1.s()"
   ]
  },
  {
   "cell_type": "markdown",
   "metadata": {},
   "source": [
    "# Inheritance\n",
    "   parent class method and attributes can be called inside the child class"
   ]
  },
  {
   "cell_type": "code",
   "execution_count": 39,
   "metadata": {},
   "outputs": [],
   "source": [
    "# parent class\n",
    "class pen():\n",
    "    def __init__ (self,companyName,penType):\n",
    "        self.companyName = companyName \n",
    "        self.penType = penType \n",
    "        \n",
    "    def getPenCompany(self):\n",
    "        print(self.companyName)\n",
    "        \n",
    "    def getPenType(self):\n",
    "        print(self.penType)"
   ]
  },
  {
   "cell_type": "code",
   "execution_count": 40,
   "metadata": {},
   "outputs": [],
   "source": [
    "#child class\n",
    "class uniPen(pen):\n",
    "    def __init__ (self,penType, country, color, srno, price):\n",
    "        self.country = country\n",
    "        self.color = color\n",
    "        self.srno = srno\n",
    "        self.price = price\n",
    "        pen.__init__(self,\"uniPen\",penType)\n",
    "        \n",
    "    def setPenType(self,newPenType):\n",
    "        print(\"We are inside the UniPen class\")\n",
    "        self.penType = newPenType\n",
    "        print(\"Pen Type is - \",self.penType)"
   ]
  },
  {
   "cell_type": "code",
   "execution_count": 42,
   "metadata": {},
   "outputs": [],
   "source": [
    "zeroPointOneBlack = uniPen('ink', 'Japan', '#212121', 'sr1223', 90)\n",
    "\n",
    "#zeroPointOneBlack = uniPen(\"ink\",\"Japan\",\"#212121\",\"sr123\",90)\n"
   ]
  },
  {
   "cell_type": "code",
   "execution_count": 44,
   "metadata": {},
   "outputs": [
    {
     "name": "stdout",
     "output_type": "stream",
     "text": [
      "uniPen\n"
     ]
    }
   ],
   "source": [
    "zeroPointOneBlack.getPenCompany()"
   ]
  },
  {
   "cell_type": "code",
   "execution_count": 45,
   "metadata": {},
   "outputs": [
    {
     "name": "stdout",
     "output_type": "stream",
     "text": [
      "ink\n"
     ]
    }
   ],
   "source": [
    "zeroPointOneBlack.getPenType()"
   ]
  },
  {
   "cell_type": "code",
   "execution_count": 46,
   "metadata": {},
   "outputs": [
    {
     "name": "stdout",
     "output_type": "stream",
     "text": [
      "We are inside the UniPen class\n",
      "Pen Type is -  Gel\n"
     ]
    }
   ],
   "source": [
    "zeroPointOneBlack.setPenType(\"Gel\")"
   ]
  },
  {
   "cell_type": "code",
   "execution_count": 47,
   "metadata": {},
   "outputs": [
    {
     "name": "stdout",
     "output_type": "stream",
     "text": [
      "Gel\n"
     ]
    }
   ],
   "source": [
    "zeroPointOneBlack.getPenType()"
   ]
  },
  {
   "cell_type": "markdown",
   "metadata": {},
   "source": [
    "###### ParentClassProperties + NewChildProperties = inheritance"
   ]
  }
 ],
 "metadata": {
  "kernelspec": {
   "display_name": "Python 3",
   "language": "python",
   "name": "python3"
  },
  "language_info": {
   "codemirror_mode": {
    "name": "ipython",
    "version": 3
   },
   "file_extension": ".py",
   "mimetype": "text/x-python",
   "name": "python",
   "nbconvert_exporter": "python",
   "pygments_lexer": "ipython3",
   "version": "3.7.4"
  }
 },
 "nbformat": 4,
 "nbformat_minor": 2
}
