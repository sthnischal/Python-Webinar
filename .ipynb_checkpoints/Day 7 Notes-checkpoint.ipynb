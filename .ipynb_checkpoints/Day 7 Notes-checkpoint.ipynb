{
 "cells": [
  {
   "cell_type": "markdown",
   "metadata": {},
   "source": [
    "# Error Handling\n",
    "\n",
    "Errors are bond to happen when writing a big peice of code, and when some unexcpeted event occurs, like internet not there in ur API to handle these things propeerly we use Error Handling !!!"
   ]
  },
  {
   "cell_type": "code",
   "execution_count": 2,
   "metadata": {},
   "outputs": [
    {
     "name": "stdout",
     "output_type": "stream",
     "text": [
      "HI We are working 1\n",
      "There was an error \n",
      "Hi we are working 2\n"
     ]
    }
   ],
   "source": [
    "print(\"HI We are working 1\") #it is line 1\n",
    "try:\n",
    "    a = 5/0 # it is line 2\n",
    "except:\n",
    "    print(\"There was an error \")\n",
    "print(\"Hi we are working 2\") # it is line 3"
   ]
  },
  {
   "cell_type": "code",
   "execution_count": 4,
   "metadata": {},
   "outputs": [
    {
     "name": "stdout",
     "output_type": "stream",
     "text": [
      "we are in try block\n",
      "Hi everyone welcome to day 6 \n",
      "There was an error -  division by zero\n",
      "We are in Finally block\n"
     ]
    }
   ],
   "source": [
    "try: # We are trying a peice of code and lets see if it break or not\n",
    "    print(\"we are in try block\")\n",
    "    file = open(\"abc.txt\",'r')\n",
    "    statement = file.read()\n",
    "    #file.write(\"hi\")\n",
    "    print(statement)\n",
    "    \n",
    "    a = 5/0\n",
    "    \n",
    "except Exception as e: # Catch the error and print something to conclude \n",
    "    print(\"There was an error - \", e)\n",
    "    \n",
    "finally: # Finally is going to run what ever may happen \n",
    "    print(\"We are in Finally block\")\n",
    "    file.close()"
   ]
  },
  {
   "cell_type": "code",
   "execution_count": 5,
   "metadata": {},
   "outputs": [
    {
     "name": "stdout",
     "output_type": "stream",
     "text": [
      "we are in try block\n",
      "Hi everyone welcome to day 6 \n"
     ]
    },
    {
     "ename": "ZeroDivisionError",
     "evalue": "division by zero",
     "output_type": "error",
     "traceback": [
      "\u001b[1;31m---------------------------------------------------------------------------\u001b[0m",
      "\u001b[1;31mZeroDivisionError\u001b[0m                         Traceback (most recent call last)",
      "\u001b[1;32m<ipython-input-5-2589e914d374>\u001b[0m in \u001b[0;36m<module>\u001b[1;34m\u001b[0m\n\u001b[0;32m      5\u001b[0m \u001b[0mprint\u001b[0m\u001b[1;33m(\u001b[0m\u001b[0mstatement\u001b[0m\u001b[1;33m)\u001b[0m\u001b[1;33m\u001b[0m\u001b[1;33m\u001b[0m\u001b[0m\n\u001b[0;32m      6\u001b[0m \u001b[1;33m\u001b[0m\u001b[0m\n\u001b[1;32m----> 7\u001b[1;33m \u001b[0ma\u001b[0m \u001b[1;33m=\u001b[0m \u001b[1;36m5\u001b[0m\u001b[1;33m/\u001b[0m\u001b[1;36m0\u001b[0m\u001b[1;33m\u001b[0m\u001b[1;33m\u001b[0m\u001b[0m\n\u001b[0m",
      "\u001b[1;31mZeroDivisionError\u001b[0m: division by zero"
     ]
    }
   ],
   "source": [
    "print(\"we are in try block\")\n",
    "file = open(\"abc.txt\",'r')\n",
    "statement = file.read()\n",
    "    #file.write(\"hi\")\n",
    "print(statement)\n",
    "\n",
    "a = 5/0"
   ]
  },
  {
   "cell_type": "code",
   "execution_count": 11,
   "metadata": {},
   "outputs": [
    {
     "name": "stdout",
     "output_type": "stream",
     "text": [
      "There was an error -  HI There we have manually kept this error to occour\n",
      "We are in Finally block\n"
     ]
    }
   ],
   "source": [
    "try: # We are trying a peice of code and lets see if it break or not\n",
    "    raise NameError(\"HI There we have manually kept this error to occour\")\n",
    "    \n",
    "except Exception as e: # Catch the error and print something to conclude \n",
    "    print(\"There was an error - \", e)\n",
    "    \n",
    "finally: # Finally is going to run what ever may happen \n",
    "    print(\"We are in Finally block\")\n",
    "    file.close()"
   ]
  },
  {
   "cell_type": "code",
   "execution_count": 15,
   "metadata": {},
   "outputs": [
    {
     "name": "stdout",
     "output_type": "stream",
     "text": [
      "OK\n",
      "We are in Finally block\n"
     ]
    }
   ],
   "source": [
    "try: # We are trying a peice of code and lets see if it break or not\n",
    "    googleFormVer = 4\n",
    "    if googleFormVer == 4:\n",
    "        print(\"OK\")\n",
    "    else:\n",
    "        raise NameError(\"HI There we have to update the file\")\n",
    "    \n",
    "except Exception as e: # Catch the error and print something to conclude \n",
    "    print(\"There was an error - \", e)\n",
    "    \n",
    "finally: # Finally is going to run what ever may happen \n",
    "    print(\"We are in Finally block\")"
   ]
  },
  {
   "cell_type": "markdown",
   "metadata": {},
   "source": [
    "##### outline     \n",
    "     try \n",
    "      - raise\n",
    "     except \n",
    "      - exception\n",
    "     finally"
   ]
  },
  {
   "cell_type": "markdown",
   "metadata": {},
   "source": [
    "# Testing\n",
    "    - When u code a peice of big program, u want many things as like is this code gonna work excatly the way it has to\n",
    " \n",
    " ###### Linting \n",
    "    - is used to find out if code is industry standards or not \n",
    " \n",
    " ###### PyLint - Install \n",
    "    - pip install pylint\n",
    "\n",
    " ######  unit testing \n",
    "     - To test a particualr module is working and giving in the desired yes or no"
   ]
  },
  {
   "cell_type": "code",
   "execution_count": 16,
   "metadata": {},
   "outputs": [],
   "source": [
    "#!pip install pylint"
   ]
  },
  {
   "cell_type": "code",
   "execution_count": 18,
   "metadata": {},
   "outputs": [
    {
     "name": "stdout",
     "output_type": "stream",
     "text": [
      "Writing some.py\n"
     ]
    }
   ],
   "source": [
    "%%writefile some.py\n",
    "'''\n",
    "this is the docstring for some.py\n",
    "'''\n",
    "A = 10\n",
    "B = 15\n",
    "C = A + B\n",
    "print(C)"
   ]
  },
  {
   "cell_type": "code",
   "execution_count": 22,
   "metadata": {},
   "outputs": [
    {
     "name": "stdout",
     "output_type": "stream",
     "text": [
      "\n",
      "------------------------------------\n",
      "\n",
      "Your code has been rated at 10.00/10\n",
      "\n",
      "\n",
      "\n"
     ]
    }
   ],
   "source": [
    "! pylint some.py"
   ]
  },
  {
   "cell_type": "code",
   "execution_count": 34,
   "metadata": {},
   "outputs": [
    {
     "name": "stdout",
     "output_type": "stream",
     "text": [
      "Overwriting factorial.py\n"
     ]
    }
   ],
   "source": [
    "%%writefile factorial.py\n",
    "\"\"\"\n",
    "This is a Python program for gettting factorial Numbers\n",
    "\"\"\"\n",
    "NUM = 10\n",
    "def factorial_function(number):\n",
    "    '''\n",
    "    This is a function for factorial\n",
    "    '''\n",
    "    fact = 1\n",
    "    for i in range(1, number+1):\n",
    "        fact = fact * i\n",
    "    return fact\n",
    "\n",
    "FCT = factorial_function(NUM)\n",
    "print(FCT)"
   ]
  },
  {
   "cell_type": "code",
   "execution_count": 35,
   "metadata": {},
   "outputs": [
    {
     "name": "stdout",
     "output_type": "stream",
     "text": [
      "\n",
      "--------------------------------------------------------------------\n",
      "\n",
      "Your code has been rated at 10.00/10 (previous run: 10.00/10, +0.00)\n",
      "\n",
      "\n",
      "\n"
     ]
    }
   ],
   "source": [
    "! pylint factorial.py"
   ]
  },
  {
   "cell_type": "code",
   "execution_count": 36,
   "metadata": {},
   "outputs": [
    {
     "name": "stdout",
     "output_type": "stream",
     "text": [
      "3628800\n"
     ]
    }
   ],
   "source": [
    "! python factorial.py"
   ]
  },
  {
   "cell_type": "markdown",
   "metadata": {},
   "source": [
    "# Unit Testing\n",
    "    Testing of modules working properly yes or no"
   ]
  },
  {
   "cell_type": "code",
   "execution_count": 37,
   "metadata": {},
   "outputs": [],
   "source": [
    "##UnitTesting \n",
    "def cap_text(text):\n",
    "    return text.title()"
   ]
  },
  {
   "cell_type": "code",
   "execution_count": 39,
   "metadata": {},
   "outputs": [
    {
     "data": {
      "text/plain": [
       "'Hi People I Love Teaching'"
      ]
     },
     "execution_count": 39,
     "metadata": {},
     "output_type": "execute_result"
    }
   ],
   "source": [
    "cap_text(\"hi people i love teaching\")"
   ]
  },
  {
   "cell_type": "code",
   "execution_count": 40,
   "metadata": {},
   "outputs": [
    {
     "name": "stdout",
     "output_type": "stream",
     "text": [
      "Writing cap.py\n"
     ]
    }
   ],
   "source": [
    "%%writefile cap.py\n",
    "def cap_text(text):\n",
    "    return text.title()"
   ]
  },
  {
   "cell_type": "code",
   "execution_count": 49,
   "metadata": {},
   "outputs": [
    {
     "name": "stdout",
     "output_type": "stream",
     "text": [
      "Overwriting test_cap.py\n"
     ]
    }
   ],
   "source": [
    "%%writefile test_cap.py\n",
    "\n",
    "import unittest\n",
    "import cap\n",
    "\n",
    "class TestCapital(unittest.TestCase):\n",
    "    def testsingleword(self):\n",
    "        some_text = \"letsupgrade\"\n",
    "        result = cap.cap_text(some_text)\n",
    "        self.assertEqual(result,\"Letsupgrade\")\n",
    "    def testMultipleWord(self):\n",
    "        some_text = \"sorry for the buffer\"\n",
    "        result = cap.cap_text(some_text)\n",
    "        self.assertEqual(result,\"Sorry For The Buffer\")\n",
    "    def testTenWords(self):\n",
    "        some_text = \"i welcome you all to letsupgrade, a freedom providing startup in education\"\n",
    "        result = cap.cap_text(some_text)\n",
    "        self.assertEqual(result,\"I Welcome You All To Letsupgrade, A Freedom Providing Startup In Education\")\n",
    "    \n",
    "\n",
    "if __name__ == \"__main__\":\n",
    "    unittest.main()"
   ]
  },
  {
   "cell_type": "code",
   "execution_count": 51,
   "metadata": {},
   "outputs": [
    {
     "name": "stderr",
     "output_type": "stream",
     "text": [
      "...\n",
      "----------------------------------------------------------------------\n",
      "Ran 3 tests in 0.000s\n",
      "\n",
      "OK\n"
     ]
    }
   ],
   "source": [
    "! python test_cap.py"
   ]
  }
 ],
 "metadata": {
  "kernelspec": {
   "display_name": "Python 3",
   "language": "python",
   "name": "python3"
  },
  "language_info": {
   "codemirror_mode": {
    "name": "ipython",
    "version": 3
   },
   "file_extension": ".py",
   "mimetype": "text/x-python",
   "name": "python",
   "nbconvert_exporter": "python",
   "pygments_lexer": "ipython3",
   "version": "3.7.4"
  }
 },
 "nbformat": 4,
 "nbformat_minor": 2
}
