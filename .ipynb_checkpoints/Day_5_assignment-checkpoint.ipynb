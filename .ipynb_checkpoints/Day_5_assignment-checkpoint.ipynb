{
 "cells": [
  {
   "cell_type": "markdown",
   "metadata": {},
   "source": [
    "### Question 1:\n",
    "    WAP to Handle File using Python Script.\n",
    "        1. Opening a File\n",
    "        2. Writing - I love Programming\n",
    "        3. Close the file\n",
    "        4. Open the file again\n",
    "        5. Show the content on screen"
   ]
  },
  {
   "cell_type": "code",
   "execution_count": 1,
   "metadata": {},
   "outputs": [],
   "source": [
    "#1,2,3\n",
    "file = open(\"Day_5_file.txt\",\"w\")\n",
    "\n",
    "file.write(\"I love Programming\")\n",
    "\n",
    "file.close()"
   ]
  },
  {
   "cell_type": "code",
   "execution_count": 2,
   "metadata": {},
   "outputs": [
    {
     "name": "stdout",
     "output_type": "stream",
     "text": [
      "I love Programming\n"
     ]
    }
   ],
   "source": [
    "#4,5\n",
    "file = open(\"Day_5_file.txt\",'r')\n",
    "\n",
    "text = file.read()\n",
    "\n",
    "print(text)\n",
    "\n",
    "file.close()"
   ]
  },
  {
   "cell_type": "markdown",
   "metadata": {},
   "source": [
    "### Question 2: Silver Project (tic tac toe game project)\n",
    "    see in seperate file of tic-tac toe Project"
   ]
  }
 ],
 "metadata": {
  "kernelspec": {
   "display_name": "Python 3",
   "language": "python",
   "name": "python3"
  },
  "language_info": {
   "codemirror_mode": {
    "name": "ipython",
    "version": 3
   },
   "file_extension": ".py",
   "mimetype": "text/x-python",
   "name": "python",
   "nbconvert_exporter": "python",
   "pygments_lexer": "ipython3",
   "version": "3.7.4"
  }
 },
 "nbformat": 4,
 "nbformat_minor": 2
}
