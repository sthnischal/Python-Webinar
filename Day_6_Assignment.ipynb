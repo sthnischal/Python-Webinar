{
  "nbformat": 4,
  "nbformat_minor": 0,
  "metadata": {
    "colab": {
      "name": "Day_6_Assignment.ipynb",
      "provenance": [],
      "collapsed_sections": [],
      "authorship_tag": "ABX9TyPFitaynkFzAp0PjqXkwccU",
      "include_colab_link": true
    },
    "kernelspec": {
      "name": "python3",
      "display_name": "Python 3"
    }
  },
  "cells": [
    {
      "cell_type": "markdown",
      "metadata": {
        "id": "view-in-github",
        "colab_type": "text"
      },
      "source": [
        "<a href=\"https://colab.research.google.com/github/sthnischal/Python-Webinar/blob/master/Day_6_Assignment.ipynb\" target=\"_parent\"><img src=\"https://colab.research.google.com/assets/colab-badge.svg\" alt=\"Open In Colab\"/></a>"
      ]
    },
    {
      "cell_type": "markdown",
      "metadata": {
        "id": "2HSz4TxfroWp",
        "colab_type": "text"
      },
      "source": [
        "**Question 1**:\n",
        "\n",
        "For this challenge, create a bank account class that has two attributes:\n",
        "\n",
        "  ● owner\n",
        "\n",
        "  ● balance\n",
        "\n",
        "and Two methods:\n",
        "\n",
        "● deposit\n",
        "\n",
        "● withdraw\n",
        "\n",
        "As an added requirement, withdrawals may not exceed the available balance.\n",
        "Instantiate your class, make several deposits and withdrawals, and test to make sure\n",
        "the account can't be Overdrawn."
      ]
    },
    {
      "cell_type": "code",
      "metadata": {
        "id": "u37E3p34rkBs",
        "colab_type": "code",
        "colab": {}
      },
      "source": [
        "class bank_account():\n",
        "  def __init__(self, owner, balance=0):\n",
        "    self.owner = owner\n",
        "    self.balance = balance\n",
        "\n",
        "  def deposit(self, balance):\n",
        "    self.balance += balance\n",
        "    return self.balance\n",
        "\n",
        "  def withdraw(self, balance):\n",
        "    if self.balance >= balance:\n",
        "      self.balance-=balance\n",
        "    else:\n",
        "      print(f'You don have access balance for withdraw. Your current balance is {self.balance}')\n",
        "    return self.balance\n"
      ],
      "execution_count": 53,
      "outputs": []
    },
    {
      "cell_type": "code",
      "metadata": {
        "id": "JYOpRQZ2swvT",
        "colab_type": "code",
        "colab": {}
      },
      "source": [
        "account = bank_account('Raji', 1000)"
      ],
      "execution_count": 49,
      "outputs": []
    },
    {
      "cell_type": "code",
      "metadata": {
        "id": "OKtmWtG0s6JR",
        "colab_type": "code",
        "colab": {
          "base_uri": "https://localhost:8080/",
          "height": 34
        },
        "outputId": "45b8a60e-4ac4-4dd2-cd30-2e776a9ffc14"
      },
      "source": [
        "account.deposit(100)"
      ],
      "execution_count": 54,
      "outputs": [
        {
          "output_type": "execute_result",
          "data": {
            "text/plain": [
              "700"
            ]
          },
          "metadata": {
            "tags": []
          },
          "execution_count": 54
        }
      ]
    },
    {
      "cell_type": "code",
      "metadata": {
        "id": "lKoiR2h6tmzt",
        "colab_type": "code",
        "colab": {
          "base_uri": "https://localhost:8080/",
          "height": 34
        },
        "outputId": "25ddb840-a567-4e88-e255-86102f689eac"
      },
      "source": [
        "account.withdraw(500)"
      ],
      "execution_count": 55,
      "outputs": [
        {
          "output_type": "execute_result",
          "data": {
            "text/plain": [
              "200"
            ]
          },
          "metadata": {
            "tags": []
          },
          "execution_count": 55
        }
      ]
    },
    {
      "cell_type": "code",
      "metadata": {
        "id": "pwbZ1aq2t2sj",
        "colab_type": "code",
        "colab": {
          "base_uri": "https://localhost:8080/",
          "height": 51
        },
        "outputId": "1588869f-8151-48dd-c4f3-c8b853cb25b7"
      },
      "source": [
        "account.withdraw(20000)"
      ],
      "execution_count": 56,
      "outputs": [
        {
          "output_type": "stream",
          "text": [
            "You don have access balance for withdraw. Your current balance is 200\n"
          ],
          "name": "stdout"
        },
        {
          "output_type": "execute_result",
          "data": {
            "text/plain": [
              "200"
            ]
          },
          "metadata": {
            "tags": []
          },
          "execution_count": 56
        }
      ]
    },
    {
      "cell_type": "markdown",
      "metadata": {
        "id": "5_7vwVJogHFF",
        "colab_type": "text"
      },
      "source": [
        "**Question 2:**\n",
        "\n",
        "For this challenge, create a Cone class that has two attributes:\n",
        "* R = Radius\n",
        "* h = height\n",
        "\n",
        "    and two methods:\n",
        "* Volume - π × r² × (h/3)\n",
        "* Surface area: base: π × r², side: π × r × √(r²+h²)\n",
        "\n",
        "  Make only one class with functions, as in where required Import Math"
      ]
    },
    {
      "cell_type": "code",
      "metadata": {
        "id": "qUWVUwPEhRnT",
        "colab_type": "code",
        "colab": {}
      },
      "source": [
        "import math"
      ],
      "execution_count": 57,
      "outputs": []
    },
    {
      "cell_type": "code",
      "metadata": {
        "id": "Uisvi1kgf-EA",
        "colab_type": "code",
        "colab": {}
      },
      "source": [
        "class Cone():\n",
        "  pi = 3.14\n",
        "\n",
        "  def __init__(self, radius, height):\n",
        "    self.radius = radius\n",
        "    self.height = height\n",
        "\n",
        "  def Volume(self):\n",
        "    return self.pi * self.radius**2 * (self.height)/3\n",
        "\n",
        "  def Surface_Area(self):\n",
        "    base = self.pi * self.radius**2\n",
        "    side = self.pi * self.radius * math.sqrt(self.radius**2 + self.height**2) #here instead of self.pi math.pi is also used\n",
        "    self.Surface_Area = base + side\n",
        "    return self.Surface_Area\n",
        "\n",
        "\n"
      ],
      "execution_count": 62,
      "outputs": []
    },
    {
      "cell_type": "code",
      "metadata": {
        "id": "p1cul2cehWO_",
        "colab_type": "code",
        "colab": {}
      },
      "source": [
        "calculate = Cone(2,4)"
      ],
      "execution_count": 59,
      "outputs": []
    },
    {
      "cell_type": "code",
      "metadata": {
        "id": "07D0go7WhhFu",
        "colab_type": "code",
        "colab": {
          "base_uri": "https://localhost:8080/",
          "height": 34
        },
        "outputId": "7d4c1588-bdef-47cd-be01-515cc5f722b1"
      },
      "source": [
        "calculate.Volume()"
      ],
      "execution_count": 60,
      "outputs": [
        {
          "output_type": "execute_result",
          "data": {
            "text/plain": [
              "16.746666666666666"
            ]
          },
          "metadata": {
            "tags": []
          },
          "execution_count": 60
        }
      ]
    },
    {
      "cell_type": "code",
      "metadata": {
        "id": "evdp9CBwhmGm",
        "colab_type": "code",
        "colab": {
          "base_uri": "https://localhost:8080/",
          "height": 164
        },
        "outputId": "d16bd375-d863-47da-a387-a4f0d59b31b8"
      },
      "source": [
        "calculate.Surface_Area()"
      ],
      "execution_count": 63,
      "outputs": [
        {
          "output_type": "error",
          "ename": "TypeError",
          "evalue": "ignored",
          "traceback": [
            "\u001b[0;31m---------------------------------------------------------------------------\u001b[0m",
            "\u001b[0;31mTypeError\u001b[0m                                 Traceback (most recent call last)",
            "\u001b[0;32m<ipython-input-63-18a0eafd36c5>\u001b[0m in \u001b[0;36m<module>\u001b[0;34m()\u001b[0m\n\u001b[0;32m----> 1\u001b[0;31m \u001b[0mcalculate\u001b[0m\u001b[0;34m.\u001b[0m\u001b[0mSurface_Area\u001b[0m\u001b[0;34m(\u001b[0m\u001b[0;34m)\u001b[0m\u001b[0;34m\u001b[0m\u001b[0;34m\u001b[0m\u001b[0m\n\u001b[0m",
            "\u001b[0;31mTypeError\u001b[0m: 'float' object is not callable"
          ]
        }
      ]
    },
    {
      "cell_type": "code",
      "metadata": {
        "id": "AM-Jj98aisYi",
        "colab_type": "code",
        "colab": {}
      },
      "source": [
        ""
      ],
      "execution_count": null,
      "outputs": []
    }
  ]
}